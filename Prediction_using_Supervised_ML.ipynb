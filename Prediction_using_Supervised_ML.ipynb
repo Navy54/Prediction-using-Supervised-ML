{
  "nbformat": 4,
  "nbformat_minor": 0,
  "metadata": {
    "colab": {
      "name": "Prediction using Supervised ML.ipynb",
      "provenance": []
    },
    "kernelspec": {
      "name": "python3",
      "display_name": "Python 3"
    },
    "language_info": {
      "name": "python"
    }
  },
  "cells": [
    {
      "cell_type": "markdown",
      "metadata": {
        "id": "CkDTkzELf0fV"
      },
      "source": [
        "#The Sparks Foundation's Graduate Rotational Internship Program (GRIP)\n",
        "##Data Science & Business Analytics' Task\n",
        "###Prediction using Supervised ML\n",
        "####(Level - Beginner)\n",
        "* To Predict the percentage of an student based on the no. of study hours.\n",
        "* This is a simple linear regression task as it involves just 2 variables.\n",
        "* Dataset is available at http://bit.ly/w-data \n",
        "* We will try to predict a student's score when a student studies for 9.25 hrs/ day?\n",
        "\n",
        "##By - Nihir Yadav"
      ]
    },
    {
      "cell_type": "markdown",
      "metadata": {
        "id": "Au_jM2q9h_zs"
      },
      "source": [
        "##Importing all libraries required"
      ]
    },
    {
      "cell_type": "code",
      "metadata": {
        "id": "yGPnUXrPUWV_"
      },
      "source": [
        "import pandas\n",
        "import numpy\n",
        "import matplotlib\n",
        "\n",
        "%matplotlib inline"
      ],
      "execution_count": null,
      "outputs": []
    },
    {
      "cell_type": "markdown",
      "metadata": {
        "id": "rY6xN196iW4r"
      },
      "source": [
        "##Reading data from the URL"
      ]
    },
    {
      "cell_type": "code",
      "metadata": {
        "colab": {
          "base_uri": "https://localhost:8080/"
        },
        "id": "DUlnJmKJVobs",
        "outputId": "6639516a-cfbf-4adb-f962-63b207aa1483"
      },
      "source": [
        "url = \"http://bit.ly/w-data\"\n",
        "dataset = pandas.read_csv(url)\n",
        "print(\"Data has been imported successfully.\")\n",
        "print()\n",
        "print(dataset)"
      ],
      "execution_count": null,
      "outputs": [
        {
          "output_type": "stream",
          "text": [
            "Data has been imported successfully.\n",
            "\n",
            "    Hours  Scores\n",
            "0     2.5      21\n",
            "1     5.1      47\n",
            "2     3.2      27\n",
            "3     8.5      75\n",
            "4     3.5      30\n",
            "5     1.5      20\n",
            "6     9.2      88\n",
            "7     5.5      60\n",
            "8     8.3      81\n",
            "9     2.7      25\n",
            "10    7.7      85\n",
            "11    5.9      62\n",
            "12    4.5      41\n",
            "13    3.3      42\n",
            "14    1.1      17\n",
            "15    8.9      95\n",
            "16    2.5      30\n",
            "17    1.9      24\n",
            "18    6.1      67\n",
            "19    7.4      69\n",
            "20    2.7      30\n",
            "21    4.8      54\n",
            "22    3.8      35\n",
            "23    6.9      76\n",
            "24    7.8      86\n"
          ],
          "name": "stdout"
        }
      ]
    },
    {
      "cell_type": "markdown",
      "metadata": {
        "id": "D912EVEHiidD"
      },
      "source": [
        "##Checking for any missing values"
      ]
    },
    {
      "cell_type": "code",
      "metadata": {
        "colab": {
          "base_uri": "https://localhost:8080/"
        },
        "id": "jxJZ_2C_WjBH",
        "outputId": "9a6660bb-1d17-4ab7-a56b-4eff2c52b8bf"
      },
      "source": [
        "print(\"Missing Value : \",dataset.isnull().sum().values.sum())"
      ],
      "execution_count": null,
      "outputs": [
        {
          "output_type": "stream",
          "text": [
            "Missing Value :  0\n"
          ],
          "name": "stdout"
        }
      ]
    },
    {
      "cell_type": "markdown",
      "metadata": {
        "id": "CVKslg6FizOX"
      },
      "source": [
        "##Summary and some basic statistical details about the data"
      ]
    },
    {
      "cell_type": "code",
      "metadata": {
        "colab": {
          "base_uri": "https://localhost:8080/"
        },
        "id": "6lLUP6h5z8aY",
        "outputId": "da5c00c4-a8a5-4503-fd5f-cbb876955d50"
      },
      "source": [
        "print(dataset.shape)"
      ],
      "execution_count": null,
      "outputs": [
        {
          "output_type": "stream",
          "text": [
            "(25, 2)\n"
          ],
          "name": "stdout"
        }
      ]
    },
    {
      "cell_type": "code",
      "metadata": {
        "colab": {
          "base_uri": "https://localhost:8080/"
        },
        "id": "nKDhn6FpzexP",
        "outputId": "0ed69d2d-91a3-4f88-cc80-7249e44f3d6a"
      },
      "source": [
        "print(dataset.head())"
      ],
      "execution_count": null,
      "outputs": [
        {
          "output_type": "stream",
          "text": [
            "   Hours  Scores\n",
            "0    2.5      21\n",
            "1    5.1      47\n",
            "2    3.2      27\n",
            "3    8.5      75\n",
            "4    3.5      30\n"
          ],
          "name": "stdout"
        }
      ]
    },
    {
      "cell_type": "code",
      "metadata": {
        "colab": {
          "base_uri": "https://localhost:8080/"
        },
        "id": "2nSVwMU7WSBQ",
        "outputId": "690da53e-66b9-440d-d6fa-51ef85b96b60"
      },
      "source": [
        "print(dataset.info())"
      ],
      "execution_count": null,
      "outputs": [
        {
          "output_type": "stream",
          "text": [
            "<class 'pandas.core.frame.DataFrame'>\n",
            "RangeIndex: 25 entries, 0 to 24\n",
            "Data columns (total 2 columns):\n",
            " #   Column  Non-Null Count  Dtype  \n",
            "---  ------  --------------  -----  \n",
            " 0   Hours   25 non-null     float64\n",
            " 1   Scores  25 non-null     int64  \n",
            "dtypes: float64(1), int64(1)\n",
            "memory usage: 528.0 bytes\n",
            "None\n"
          ],
          "name": "stdout"
        }
      ]
    },
    {
      "cell_type": "code",
      "metadata": {
        "colab": {
          "base_uri": "https://localhost:8080/"
        },
        "id": "86yPxQDGWZhb",
        "outputId": "6a5d3775-0497-42af-d66b-33bb1c770291"
      },
      "source": [
        "print(dataset.describe())"
      ],
      "execution_count": null,
      "outputs": [
        {
          "output_type": "stream",
          "text": [
            "           Hours     Scores\n",
            "count  25.000000  25.000000\n",
            "mean    5.012000  51.480000\n",
            "std     2.525094  25.286887\n",
            "min     1.100000  17.000000\n",
            "25%     2.700000  30.000000\n",
            "50%     4.800000  47.000000\n",
            "75%     7.400000  75.000000\n",
            "max     9.200000  95.000000\n"
          ],
          "name": "stdout"
        }
      ]
    },
    {
      "cell_type": "markdown",
      "metadata": {
        "id": "o8EPltxvjCQu"
      },
      "source": [
        "##Visualizing the data\n",
        "###Plotting the data on two dimensinal graph to visualize the dataset and see if we can detect any relationship between the data. We will create the graph with the following code:"
      ]
    },
    {
      "cell_type": "code",
      "metadata": {
        "colab": {
          "base_uri": "https://localhost:8080/",
          "height": 621
        },
        "id": "1AYbZsSIW16K",
        "outputId": "1f4a5e6e-fe6b-4558-9ed3-424f27fcdc00"
      },
      "source": [
        "matplotlib.pyplot.rcParams[\"figure.figsize\"] = [10,10]\n",
        "dataset.plot(x='Hours', y='Scores', style='*', color='green', markersize=7)\n",
        "matplotlib.pyplot.title('Hours vs Percentage')  \n",
        "matplotlib.pyplot.xlabel('Hours Studied') \n",
        "matplotlib.pyplot.ylabel('Percentage Score')  \n",
        "matplotlib.pyplot.show()"
      ],
      "execution_count": null,
      "outputs": [
        {
          "output_type": "display_data",
          "data": {
            "image/png": "[encoded data removed]",
            "text/plain": [
              "<Figure size 720x720 with 1 Axes>"
            ]
          },
          "metadata": {
            "tags": [],
            "needs_background": "light"
          }
        }
      ]
    },
    {
      "cell_type": "markdown",
      "metadata": {
        "id": "LK4-3XEwkd1r"
      },
      "source": [
        "####We observed linear relation between the  and percentage and number of hours studiedbased from the graph."
      ]
    },
    {
      "cell_type": "markdown",
      "metadata": {
        "id": "jOZkdwWalPpV"
      },
      "source": [
        "##Preparing the data\n",
        "####We will mark the data into \"features\" (inputs) and \"labels\". Features are the inputs and labels are the output."
      ]
    },
    {
      "cell_type": "code",
      "metadata": {
        "colab": {
          "base_uri": "https://localhost:8080/"
        },
        "id": "fgLnfucQYuIl",
        "outputId": "3a5ec106-f776-4293-9ef6-1ca8fba5b66f"
      },
      "source": [
        "X = dataset.iloc[:, :-1].values  \n",
        "Y = dataset.iloc[:, 1].values\n",
        "\n",
        "print(X)\n",
        "print(Y)"
      ],
      "execution_count": null,
      "outputs": [
        {
          "output_type": "stream",
          "text": [
            "[[2.5]\n",
            " [5.1]\n",
            " [3.2]\n",
            " [8.5]\n",
            " [3.5]\n",
            " [1.5]\n",
            " [9.2]\n",
            " [5.5]\n",
            " [8.3]\n",
            " [2.7]\n",
            " [7.7]\n",
            " [5.9]\n",
            " [4.5]\n",
            " [3.3]\n",
            " [1.1]\n",
            " [8.9]\n",
            " [2.5]\n",
            " [1.9]\n",
            " [6.1]\n",
            " [7.4]\n",
            " [2.7]\n",
            " [4.8]\n",
            " [3.8]\n",
            " [6.9]\n",
            " [7.8]]\n",
            "[21 47 27 75 30 20 88 60 81 25 85 62 41 42 17 95 30 24 67 69 30 54 35 76\n",
            " 86]\n"
          ],
          "name": "stdout"
        }
      ]
    },
    {
      "cell_type": "markdown",
      "metadata": {
        "id": "Z2JuVjUP12Sv"
      },
      "source": [
        "####We marked our attributes and labels. Now to split the data into training and test sets. Splitting the data helps us effectively test our algorithm against unknown data."
      ]
    },
    {
      "cell_type": "code",
      "metadata": {
        "id": "udFYso1M4BNw"
      },
      "source": [
        "from sklearn.model_selection import train_test_split  \n",
        "X_train, X_test, Y_train, Y_test = train_test_split(X, Y, test_size=0.2, random_state=0) "
      ],
      "execution_count": null,
      "outputs": []
    },
    {
      "cell_type": "code",
      "metadata": {
        "colab": {
          "base_uri": "https://localhost:8080/"
        },
        "id": "RStNLxNsanMu",
        "outputId": "267c8cee-d4e7-4379-d0f2-122e3049d43e"
      },
      "source": [
        "print(X_train)\n",
        "print(X_test)\n",
        "print(Y_train)\n",
        "print(Y_test)"
      ],
      "execution_count": null,
      "outputs": [
        {
          "output_type": "stream",
          "text": [
            "[[3.8]\n",
            " [1.9]\n",
            " [7.8]\n",
            " [6.9]\n",
            " [1.1]\n",
            " [5.1]\n",
            " [7.7]\n",
            " [3.3]\n",
            " [8.3]\n",
            " [9.2]\n",
            " [6.1]\n",
            " [3.5]\n",
            " [2.7]\n",
            " [5.5]\n",
            " [2.7]\n",
            " [8.5]\n",
            " [2.5]\n",
            " [4.8]\n",
            " [8.9]\n",
            " [4.5]]\n",
            "[[1.5]\n",
            " [3.2]\n",
            " [7.4]\n",
            " [2.5]\n",
            " [5.9]]\n",
            "[35 24 86 76 17 47 85 42 81 88 67 30 25 60 30 75 21 54 95 41]\n",
            "[20 27 69 30 62]\n"
          ],
          "name": "stdout"
        }
      ]
    },
    {
      "cell_type": "markdown",
      "metadata": {
        "id": "X4BWb0m52lIs"
      },
      "source": [
        "##Training the model\n",
        "####Choosing the model"
      ]
    },
    {
      "cell_type": "code",
      "metadata": {
        "id": "d2e9Hms_bD_g"
      },
      "source": [
        "from sklearn.linear_model import LinearRegression  \n",
        "\n",
        "regressor = LinearRegression()  "
      ],
      "execution_count": null,
      "outputs": []
    },
    {
      "cell_type": "markdown",
      "metadata": {
        "id": "_As0Ji8N21y0"
      },
      "source": [
        "####Fitting the model"
      ]
    },
    {
      "cell_type": "code",
      "metadata": {
        "colab": {
          "base_uri": "https://localhost:8080/"
        },
        "id": "u1NL77a92023",
        "outputId": "6199fa5d-687d-4945-9b39-549de5f2bc0c"
      },
      "source": [
        "regressor.fit(X_train, Y_train) \n",
        "\n",
        "print(\"Training complete\")"
      ],
      "execution_count": null,
      "outputs": [
        {
          "output_type": "stream",
          "text": [
            "Training complete\n"
          ],
          "name": "stdout"
        }
      ]
    },
    {
      "cell_type": "markdown",
      "metadata": {
        "id": "umym6RAp3Ii8"
      },
      "source": [
        "##Visualizing the model"
      ]
    },
    {
      "cell_type": "code",
      "metadata": {
        "colab": {
          "base_uri": "https://localhost:8080/",
          "height": 621
        },
        "id": "IaWvvXrjbkyP",
        "outputId": "f561fe1b-5c3f-4834-8ae0-02cdf84fb3c5"
      },
      "source": [
        "line = regressor.coef_*X+regressor.intercept_\n",
        "\n",
        "matplotlib.pyplot.scatter(X_train, Y_train, color='green')\n",
        "matplotlib.pyplot.plot(X, line, color='blue');\n",
        "matplotlib.pyplot.rcParams[\"figure.figsize\"] = [10,10]\n",
        "matplotlib.pyplot.title('Percentage vs Hours')\n",
        "matplotlib.pyplot.xlabel('Hours Studied')  \n",
        "matplotlib.pyplot.ylabel('Percentage Score')\n",
        "matplotlib.pyplot.show()"
      ],
      "execution_count": null,
      "outputs": [
        {
          "output_type": "display_data",
          "data": {
            "image/png": "[encoded data removed]",
            "text/plain": [
              "<Figure size 720x720 with 1 Axes>"
            ]
          },
          "metadata": {
            "tags": [],
            "needs_background": "light"
          }
        }
      ]
    },
    {
      "cell_type": "markdown",
      "metadata": {
        "id": "375n4Dlv5c_L"
      },
      "source": [
        "##Making Predictions"
      ]
    },
    {
      "cell_type": "code",
      "metadata": {
        "colab": {
          "base_uri": "https://localhost:8080/"
        },
        "id": "n4tQwbXqciM4",
        "outputId": "cbf094d8-534a-4b65-8686-b2d63bc32b4e"
      },
      "source": [
        "print(X_test)\n",
        "Y_pred = regressor.predict(X_test)"
      ],
      "execution_count": null,
      "outputs": [
        {
          "output_type": "stream",
          "text": [
            "[[1.5]\n",
            " [3.2]\n",
            " [7.4]\n",
            " [2.5]\n",
            " [5.9]]\n"
          ],
          "name": "stdout"
        }
      ]
    },
    {
      "cell_type": "markdown",
      "metadata": {
        "id": "ss6dXStCI6tV"
      },
      "source": [
        "####Evaluating Predictions"
      ]
    },
    {
      "cell_type": "code",
      "metadata": {
        "colab": {
          "base_uri": "https://localhost:8080/"
        },
        "id": "Jj8RCmNlcrCA",
        "outputId": "41fddfbb-132e-4fc2-8d21-59d4baad9614"
      },
      "source": [
        "df = pd.DataFrame({'Actual': Y_test, 'Predicted': Y_pred})\n",
        "print(df)"
      ],
      "execution_count": null,
      "outputs": [
        {
          "output_type": "stream",
          "text": [
            "   Actual  Predicted\n",
            "0      20  16.884145\n",
            "1      27  33.732261\n",
            "2      69  75.357018\n",
            "3      30  26.794801\n",
            "4      62  60.491033\n"
          ],
          "name": "stdout"
        }
      ]
    },
    {
      "cell_type": "markdown",
      "metadata": {
        "id": "kL-8qzc7JZF2"
      },
      "source": [
        "####Coefficient of determination"
      ]
    },
    {
      "cell_type": "code",
      "metadata": {
        "id": "-RHzlMVSJm1T"
      },
      "source": [
        "print(regressor.score(X_test, Y_test))"
      ],
      "execution_count": null,
      "outputs": []
    },
    {
      "cell_type": "markdown",
      "metadata": {
        "id": "4EAoBZ8K2aNa"
      },
      "source": [
        "##Making the predictions"
      ]
    },
    {
      "cell_type": "code",
      "metadata": {
        "colab": {
          "base_uri": "https://localhost:8080/"
        },
        "id": "Bcdxud4Ec0xO",
        "outputId": "2063dd6b-1de3-4f2c-81e2-41fd0fed3b4a"
      },
      "source": [
        "hours = numpy.array([[9.25]])\n",
        "own_pred = regressor.predict(hours)\n",
        "print(\"No of Hours = {}\".format(hours))\n",
        "print(\"Predicted Score = {}\".format(own_pred[0]))"
      ],
      "execution_count": null,
      "outputs": [
        {
          "output_type": "stream",
          "text": [
            "No of Hours = [[9.25]]\n",
            "Predicted Score = 93.69173248737539\n"
          ],
          "name": "stdout"
        }
      ]
    },
    {
      "cell_type": "markdown",
      "metadata": {
        "id": "EYFdrg182fsW"
      },
      "source": [
        "##Error Value"
      ]
    },
    {
      "cell_type": "code",
      "metadata": {
        "colab": {
          "base_uri": "https://localhost:8080/"
        },
        "id": "PAuTaRFGdO64",
        "outputId": "32a87c09-7384-4c72-9ad4-e5b5d9912f34"
      },
      "source": [
        "from sklearn import metrics  \n",
        "print('Mean Absolute Error:', metrics.mean_absolute_error(Y_test, Y_pred)) "
      ],
      "execution_count": null,
      "outputs": [
        {
          "output_type": "stream",
          "text": [
            "Mean Absolute Error: 4.183859899002982\n"
          ],
          "name": "stdout"
        }
      ]
    }
  ]
}